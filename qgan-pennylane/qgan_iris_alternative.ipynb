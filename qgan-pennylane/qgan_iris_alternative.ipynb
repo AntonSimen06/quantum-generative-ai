{
 "cells": [
  {
   "attachments": {},
   "cell_type": "markdown",
   "metadata": {},
   "source": [
    "# Quantum GANs Pennylane\n",
    "## Module Imports"
   ]
  },
  {
   "cell_type": "code",
   "execution_count": 1,
   "metadata": {},
   "outputs": [],
   "source": [
    "# Library imports\n",
    "import math\n",
    "import random\n",
    "import numpy as np\n",
    "import pandas as pd\n",
    "import matplotlib.pyplot as plt\n",
    "import matplotlib.gridspec as gridspec\n",
    "import pennylane as qml\n",
    "\n",
    "# Pytorch imports\n",
    "import torch\n",
    "import torch.nn as nn\n",
    "import torch.optim as optim\n",
    "import torchvision\n",
    "import torchvision.transforms as transforms\n",
    "from torch.utils.data import Dataset, DataLoader\n",
    "\n",
    "# Set the random seed for reproducibility\n",
    "seed = 42\n",
    "torch.manual_seed(seed)\n",
    "np.random.seed(seed)\n",
    "random.seed(seed)"
   ]
  },
  {
   "attachments": {},
   "cell_type": "markdown",
   "metadata": {},
   "source": [
    "## Data\n",
    "Data can be obtained [here](https://www.kaggle.com/datasets/uciml/iris)."
   ]
  },
  {
   "cell_type": "code",
   "execution_count": 2,
   "metadata": {},
   "outputs": [],
   "source": [
    "data_iris = pd.read_csv('data/iris.csv')\n",
    "data_setosa = data_iris.loc[data_iris['Species'] == 'Iris-setosa', :]"
   ]
  },
  {
   "cell_type": "code",
   "execution_count": 3,
   "metadata": {},
   "outputs": [
    {
     "data": {
      "text/html": [
       "<div>\n",
       "<style scoped>\n",
       "    .dataframe tbody tr th:only-of-type {\n",
       "        vertical-align: middle;\n",
       "    }\n",
       "\n",
       "    .dataframe tbody tr th {\n",
       "        vertical-align: top;\n",
       "    }\n",
       "\n",
       "    .dataframe thead th {\n",
       "        text-align: right;\n",
       "    }\n",
       "</style>\n",
       "<table border=\"1\" class=\"dataframe\">\n",
       "  <thead>\n",
       "    <tr style=\"text-align: right;\">\n",
       "      <th></th>\n",
       "      <th>Id</th>\n",
       "      <th>SepalLengthCm</th>\n",
       "      <th>SepalWidthCm</th>\n",
       "      <th>PetalLengthCm</th>\n",
       "      <th>PetalWidthCm</th>\n",
       "    </tr>\n",
       "  </thead>\n",
       "  <tbody>\n",
       "    <tr>\n",
       "      <th>count</th>\n",
       "      <td>50.00000</td>\n",
       "      <td>50.00000</td>\n",
       "      <td>50.000000</td>\n",
       "      <td>50.000000</td>\n",
       "      <td>50.00000</td>\n",
       "    </tr>\n",
       "    <tr>\n",
       "      <th>mean</th>\n",
       "      <td>25.50000</td>\n",
       "      <td>5.00600</td>\n",
       "      <td>3.418000</td>\n",
       "      <td>1.464000</td>\n",
       "      <td>0.24400</td>\n",
       "    </tr>\n",
       "    <tr>\n",
       "      <th>std</th>\n",
       "      <td>14.57738</td>\n",
       "      <td>0.35249</td>\n",
       "      <td>0.381024</td>\n",
       "      <td>0.173511</td>\n",
       "      <td>0.10721</td>\n",
       "    </tr>\n",
       "    <tr>\n",
       "      <th>min</th>\n",
       "      <td>1.00000</td>\n",
       "      <td>4.30000</td>\n",
       "      <td>2.300000</td>\n",
       "      <td>1.000000</td>\n",
       "      <td>0.10000</td>\n",
       "    </tr>\n",
       "    <tr>\n",
       "      <th>25%</th>\n",
       "      <td>13.25000</td>\n",
       "      <td>4.80000</td>\n",
       "      <td>3.125000</td>\n",
       "      <td>1.400000</td>\n",
       "      <td>0.20000</td>\n",
       "    </tr>\n",
       "    <tr>\n",
       "      <th>50%</th>\n",
       "      <td>25.50000</td>\n",
       "      <td>5.00000</td>\n",
       "      <td>3.400000</td>\n",
       "      <td>1.500000</td>\n",
       "      <td>0.20000</td>\n",
       "    </tr>\n",
       "    <tr>\n",
       "      <th>75%</th>\n",
       "      <td>37.75000</td>\n",
       "      <td>5.20000</td>\n",
       "      <td>3.675000</td>\n",
       "      <td>1.575000</td>\n",
       "      <td>0.30000</td>\n",
       "    </tr>\n",
       "    <tr>\n",
       "      <th>max</th>\n",
       "      <td>50.00000</td>\n",
       "      <td>5.80000</td>\n",
       "      <td>4.400000</td>\n",
       "      <td>1.900000</td>\n",
       "      <td>0.60000</td>\n",
       "    </tr>\n",
       "  </tbody>\n",
       "</table>\n",
       "</div>"
      ],
      "text/plain": [
       "             Id  SepalLengthCm  SepalWidthCm  PetalLengthCm  PetalWidthCm\n",
       "count  50.00000       50.00000     50.000000      50.000000      50.00000\n",
       "mean   25.50000        5.00600      3.418000       1.464000       0.24400\n",
       "std    14.57738        0.35249      0.381024       0.173511       0.10721\n",
       "min     1.00000        4.30000      2.300000       1.000000       0.10000\n",
       "25%    13.25000        4.80000      3.125000       1.400000       0.20000\n",
       "50%    25.50000        5.00000      3.400000       1.500000       0.20000\n",
       "75%    37.75000        5.20000      3.675000       1.575000       0.30000\n",
       "max    50.00000        5.80000      4.400000       1.900000       0.60000"
      ]
     },
     "execution_count": 3,
     "metadata": {},
     "output_type": "execute_result"
    }
   ],
   "source": [
    "data_setosa.describe()"
   ]
  },
  {
   "cell_type": "code",
   "execution_count": 4,
   "metadata": {},
   "outputs": [],
   "source": [
    "from sklearn.preprocessing import MinMaxScaler\n",
    "\n",
    "## Dropping Id and Species columns\n",
    "data_setosa = data_setosa.drop(['Id', 'Species'], axis=1)\n",
    "\n",
    "# # Normalizing \n",
    "# scaler = MinMaxScaler()\n",
    "# data_setosa = scaler.fit_transform(data_setosa)"
   ]
  },
  {
   "cell_type": "code",
   "execution_count": 5,
   "metadata": {},
   "outputs": [
    {
     "data": {
      "text/plain": [
       "(array([ 4.,  1.,  6.,  5., 12.,  8.,  4.,  5.,  2.,  3.]),\n",
       " array([4.3 , 4.45, 4.6 , 4.75, 4.9 , 5.05, 5.2 , 5.35, 5.5 , 5.65, 5.8 ]),\n",
       " <BarContainer object of 10 artists>)"
      ]
     },
     "execution_count": 5,
     "metadata": {},
     "output_type": "execute_result"
    },
    {
     "data": {
      "image/png": "[encoded data removed]",
      "text/plain": [
       "<Figure size 640x480 with 1 Axes>"
      ]
     },
     "metadata": {},
     "output_type": "display_data"
    }
   ],
   "source": [
    "plt.hist(data_setosa['SepalLengthCm'])"
   ]
  },
  {
   "cell_type": "code",
   "execution_count": 6,
   "metadata": {},
   "outputs": [
    {
     "data": {
      "text/plain": [
       "(array([ 6.,  0., 28.,  7.,  0.,  0.,  7.,  0.,  1.,  1.]),\n",
       " array([0.1 , 0.15, 0.2 , 0.25, 0.3 , 0.35, 0.4 , 0.45, 0.5 , 0.55, 0.6 ]),\n",
       " <BarContainer object of 10 artists>)"
      ]
     },
     "execution_count": 6,
     "metadata": {},
     "output_type": "execute_result"
    },
    {
     "data": {
      "image/png": "[encoded data removed]",
      "text/plain": [
       "<Figure size 640x480 with 1 Axes>"
      ]
     },
     "metadata": {},
     "output_type": "display_data"
    }
   ],
   "source": [
    "plt.hist(data_setosa['PetalWidthCm'])"
   ]
  },
  {
   "cell_type": "code",
   "execution_count": 7,
   "metadata": {},
   "outputs": [
    {
     "data": {
      "text/plain": [
       "(array([ 1.,  1.,  2.,  7., 12., 14.,  7.,  4.,  0.,  2.]),\n",
       " array([1.  , 1.09, 1.18, 1.27, 1.36, 1.45, 1.54, 1.63, 1.72, 1.81, 1.9 ]),\n",
       " <BarContainer object of 10 artists>)"
      ]
     },
     "execution_count": 7,
     "metadata": {},
     "output_type": "execute_result"
    },
    {
     "data": {
      "image/png": "[encoded data removed]",
      "text/plain": [
       "<Figure size 640x480 with 1 Axes>"
      ]
     },
     "metadata": {},
     "output_type": "display_data"
    }
   ],
   "source": [
    "plt.hist(data_setosa['PetalLengthCm'])"
   ]
  },
  {
   "attachments": {},
   "cell_type": "markdown",
   "metadata": {},
   "source": [
    "Defining some variables:"
   ]
  },
  {
   "cell_type": "code",
   "execution_count": 8,
   "metadata": {},
   "outputs": [],
   "source": [
    "input_size = np.shape(data_setosa)[1]\n",
    "batch_size = 1\n",
    "\n",
    "transform = transforms.Compose([transforms.ToTensor()])\n",
    "dataset = torch.FloatTensor(data_setosa.values)\n",
    "dataloader = torch.utils.data.DataLoader(\n",
    "    dataset, batch_size=batch_size, shuffle=True, drop_last=True\n",
    ")"
   ]
  },
  {
   "attachments": {},
   "cell_type": "markdown",
   "metadata": {},
   "source": [
    "## Implementing the (Classical) Discriminator\n",
    "For the discriminator, we use a fully connected neural network with two hidden layers. A single output is sufficient to represent the probability of an input being classified as real."
   ]
  },
  {
   "cell_type": "code",
   "execution_count": 9,
   "metadata": {},
   "outputs": [],
   "source": [
    "class Discriminator(nn.Module):\n",
    "    \"\"\"Fully connected classical discriminator\"\"\"\n",
    "\n",
    "    def __init__(self):\n",
    "        super().__init__()\n",
    "\n",
    "        self.model = nn.Sequential(\n",
    "            # Inputs to first hidden layer (num_input_features -> 64)\n",
    "            nn.Linear(input_size, 64),\n",
    "            nn.ReLU(),\n",
    "            # First hidden layer (64 -> 16)\n",
    "            nn.Linear(64, 16),\n",
    "            nn.ReLU(),\n",
    "            # Second hidden layer (16 -> output)\n",
    "            nn.Linear(16, 1),\n",
    "            nn.Sigmoid(),\n",
    "        )\n",
    "\n",
    "    def forward(self, x):\n",
    "        return self.model(x)"
   ]
  },
  {
   "attachments": {},
   "cell_type": "markdown",
   "metadata": {},
   "source": [
    "## Implementing the Generator\n",
    "Each sub-generator, G(i) , shares the same circuit architecture as shown below. The overall quantum generator consists of NG sub-generators, each consisting of N qubits. The process from latent vector input to image output can be split into four distinct sections: state embedding, parameterisation, non-linear transformation, and post-processing.\n",
    "\n",
    "###"
   ]
  },
  {
   "cell_type": "code",
   "execution_count": 10,
   "metadata": {},
   "outputs": [],
   "source": [
    "# Quantum variables\n",
    "n_qubits = 3  # Total number of qubits / N\n",
    "n_a_qubits = 1  # Number of ancillary qubits / N_A\n",
    "q_depth = 10  # Depth of the parameterised quantum circuit / D\n",
    "n_generators = 1  # Number of subgenerators for the patch method / N_G"
   ]
  },
  {
   "attachments": {},
   "cell_type": "markdown",
   "metadata": {},
   "source": [
    "Defining quantum simulator and device:"
   ]
  },
  {
   "cell_type": "code",
   "execution_count": 11,
   "metadata": {},
   "outputs": [
    {
     "name": "stdout",
     "output_type": "stream",
     "text": [
      "Using cpu device.\n"
     ]
    }
   ],
   "source": [
    "# Quantum simulator\n",
    "dev = qml.device(\"default.qubit\", wires=n_qubits)\n",
    "# Enable CUDA device if available\n",
    "device = torch.device(\"cuda:0\" if torch.cuda.is_available() else \"cpu\")\n",
    "\n",
    "print(f\"Using {device} device.\")"
   ]
  },
  {
   "attachments": {},
   "cell_type": "markdown",
   "metadata": {},
   "source": [
    "Defining the quantum circuit and measurement process:"
   ]
  },
  {
   "cell_type": "code",
   "execution_count": 12,
   "metadata": {},
   "outputs": [],
   "source": [
    "@qml.qnode(dev, interface=\"torch\", diff_method=\"parameter-shift\")\n",
    "def quantum_circuit(noise, weights):\n",
    "\n",
    "    weights = weights.reshape(q_depth, n_qubits)\n",
    "\n",
    "    # Initialise latent vectors\n",
    "    for i in range(n_qubits):\n",
    "        qml.RY(noise[i], wires=i)\n",
    "\n",
    "    # Repeated layer\n",
    "    for i in range(q_depth):\n",
    "        # Parameterised layer\n",
    "        for y in range(n_qubits):\n",
    "            qml.RY(weights[i][y], wires=y)\n",
    "\n",
    "        # Control Z gates\n",
    "        for y in range(n_qubits - 1):\n",
    "            qml.CZ(wires=[y, y + 1])\n",
    "\n",
    "    return qml.probs(wires=list(range(n_qubits)))\n",
    "\n",
    "\n",
    "# For further info on how the non-linear transform is implemented in Pennylane\n",
    "# https://discuss.pennylane.ai/t/ancillary-subsystem-measurement-then-trace-out/1532\n",
    "def partial_measure(noise, weights):\n",
    "    # Non-linear Transform\n",
    "    probs = quantum_circuit(noise, weights)\n",
    "    probsgiven0 = probs[: (2 ** (n_qubits - n_a_qubits))]\n",
    "    probsgiven0 /= torch.sum(probs)\n",
    "\n",
    "    # Post-Processing\n",
    "    # probsgiven = probsgiven0 / torch.max(probsgiven0)\n",
    "    probsgiven = probsgiven0\n",
    "    return probsgiven"
   ]
  },
  {
   "attachments": {},
   "cell_type": "markdown",
   "metadata": {},
   "source": [
    "Now we create a quantum generator class to use during training."
   ]
  },
  {
   "cell_type": "code",
   "execution_count": 13,
   "metadata": {},
   "outputs": [],
   "source": [
    "class PatchQuantumGenerator(nn.Module):\n",
    "    \"\"\"Quantum generator class for the patch method\"\"\"\n",
    "\n",
    "    def __init__(self, n_generators, q_delta=1):\n",
    "        \"\"\"\n",
    "        Args:\n",
    "            n_generators (int): Number of sub-generators to be used in the patch method.\n",
    "            q_delta (float, optional): Spread of the random distribution for parameter initialisation.\n",
    "        \"\"\"\n",
    "\n",
    "        super().__init__()\n",
    "\n",
    "        self.q_params = nn.ParameterList(\n",
    "            [\n",
    "                nn.Parameter(q_delta * torch.rand(q_depth * n_qubits), requires_grad=True)\n",
    "                for _ in range(n_generators)\n",
    "            ]\n",
    "        )\n",
    "        self.n_generators = n_generators\n",
    "\n",
    "    def forward(self, x):\n",
    "        # Size of each sub-generator output\n",
    "        patch_size = 2 ** (n_qubits - n_a_qubits)\n",
    "\n",
    "        # Create a Tensor to 'catch' a batch of images from the for loop. x.size(0) is the batch size.\n",
    "        images = torch.Tensor(x.size(0), 0).to(device)\n",
    "\n",
    "        # Iterate over all sub-generators\n",
    "        for params in self.q_params:\n",
    "\n",
    "            # Create a Tensor to 'catch' a batch of the patches from a single sub-generator\n",
    "            patches = torch.Tensor(0, patch_size).to(device)\n",
    "            for elem in x:\n",
    "                q_out = partial_measure(elem, params).float().unsqueeze(0)\n",
    "                patches = torch.cat((patches, q_out))\n",
    "\n",
    "            # Each batch of patches is concatenated with each other to create a batch of images\n",
    "            images = torch.cat((images, patches), 1)\n",
    "\n",
    "        return images"
   ]
  },
  {
   "attachments": {},
   "cell_type": "markdown",
   "metadata": {},
   "source": [
    "## Training\n",
    "Let’s define learning rates and number of iterations for the training process."
   ]
  },
  {
   "cell_type": "code",
   "execution_count": 14,
   "metadata": {},
   "outputs": [],
   "source": [
    "lrG = 0.3  # Learning rate for the generator\n",
    "lrD = 0.01  # Learning rate for the discriminator\n",
    "num_iter = 500  # Number of training iterations"
   ]
  },
  {
   "cell_type": "code",
   "execution_count": 15,
   "metadata": {},
   "outputs": [
    {
     "name": "stdout",
     "output_type": "stream",
     "text": [
      "Iteration: 10, Discriminator Loss: 1.301, Generator Loss: 0.578\n",
      "Iteration: 20, Discriminator Loss: 1.147, Generator Loss: 0.575\n",
      "Iteration: 30, Discriminator Loss: 1.084, Generator Loss: 0.588\n",
      "Iteration: 40, Discriminator Loss: 0.934, Generator Loss: 0.605\n",
      "Iteration: 50, Discriminator Loss: 0.907, Generator Loss: 0.628\n",
      "Iteration: 60, Discriminator Loss: 0.818, Generator Loss: 0.665\n",
      "Iteration: 70, Discriminator Loss: 0.750, Generator Loss: 0.712\n",
      "Iteration: 80, Discriminator Loss: 0.700, Generator Loss: 0.762\n",
      "Iteration: 90, Discriminator Loss: 0.691, Generator Loss: 0.792\n",
      "Iteration: 100, Discriminator Loss: 0.601, Generator Loss: 0.853\n",
      "Iteration: 110, Discriminator Loss: 0.612, Generator Loss: 0.861\n",
      "Iteration: 120, Discriminator Loss: 0.563, Generator Loss: 0.888\n",
      "Iteration: 130, Discriminator Loss: 0.512, Generator Loss: 0.978\n",
      "Iteration: 140, Discriminator Loss: 0.491, Generator Loss: 1.055\n",
      "Iteration: 150, Discriminator Loss: 0.457, Generator Loss: 1.138\n",
      "Iteration: 160, Discriminator Loss: 0.400, Generator Loss: 1.219\n",
      "Iteration: 170, Discriminator Loss: 0.346, Generator Loss: 1.295\n",
      "Iteration: 180, Discriminator Loss: 0.326, Generator Loss: 1.374\n",
      "Iteration: 190, Discriminator Loss: 0.310, Generator Loss: 1.403\n",
      "Iteration: 200, Discriminator Loss: 0.310, Generator Loss: 1.412\n",
      "Iteration: 210, Discriminator Loss: 0.289, Generator Loss: 1.432\n",
      "Iteration: 220, Discriminator Loss: 0.269, Generator Loss: 1.532\n",
      "Iteration: 230, Discriminator Loss: 0.245, Generator Loss: 1.581\n",
      "Iteration: 240, Discriminator Loss: 0.214, Generator Loss: 1.682\n",
      "Iteration: 250, Discriminator Loss: 0.202, Generator Loss: 1.755\n",
      "Iteration: 260, Discriminator Loss: 0.188, Generator Loss: 1.819\n",
      "Iteration: 270, Discriminator Loss: 0.170, Generator Loss: 1.922\n",
      "Iteration: 280, Discriminator Loss: 0.160, Generator Loss: 2.007\n",
      "Iteration: 290, Discriminator Loss: 0.148, Generator Loss: 2.044\n",
      "Iteration: 300, Discriminator Loss: 0.159, Generator Loss: 2.138\n",
      "Iteration: 310, Discriminator Loss: 0.122, Generator Loss: 2.213\n",
      "Iteration: 320, Discriminator Loss: 0.138, Generator Loss: 2.281\n",
      "Iteration: 330, Discriminator Loss: 0.111, Generator Loss: 2.354\n",
      "Iteration: 340, Discriminator Loss: 0.097, Generator Loss: 2.434\n",
      "Iteration: 350, Discriminator Loss: 0.090, Generator Loss: 2.504\n",
      "Iteration: 360, Discriminator Loss: 0.087, Generator Loss: 2.546\n",
      "Iteration: 370, Discriminator Loss: 0.082, Generator Loss: 2.604\n",
      "Iteration: 380, Discriminator Loss: 0.079, Generator Loss: 2.667\n",
      "Iteration: 390, Discriminator Loss: 0.076, Generator Loss: 2.712\n",
      "Iteration: 400, Discriminator Loss: 0.072, Generator Loss: 2.782\n",
      "Iteration: 410, Discriminator Loss: 0.066, Generator Loss: 2.815\n",
      "Iteration: 420, Discriminator Loss: 0.061, Generator Loss: 2.874\n",
      "Iteration: 430, Discriminator Loss: 0.061, Generator Loss: 2.922\n",
      "Iteration: 440, Discriminator Loss: 0.059, Generator Loss: 2.978\n",
      "Iteration: 450, Discriminator Loss: 0.051, Generator Loss: 3.030\n",
      "Iteration: 460, Discriminator Loss: 0.049, Generator Loss: 3.081\n",
      "Iteration: 470, Discriminator Loss: 0.047, Generator Loss: 3.128\n",
      "Iteration: 480, Discriminator Loss: 0.053, Generator Loss: 3.161\n",
      "Iteration: 490, Discriminator Loss: 0.043, Generator Loss: 3.206\n",
      "Iteration: 500, Discriminator Loss: 0.044, Generator Loss: 3.229\n"
     ]
    }
   ],
   "source": [
    "discriminator = Discriminator().to(device)\n",
    "generator = PatchQuantumGenerator(n_generators).to(device)\n",
    "\n",
    "# Binary cross entropy\n",
    "criterion = nn.BCELoss()\n",
    "\n",
    "# Optimisers\n",
    "optD = optim.SGD(discriminator.parameters(), lr=lrD)\n",
    "optG = optim.SGD(generator.parameters(), lr=lrG)\n",
    "\n",
    "real_labels = torch.full((batch_size,), 1.0, dtype=torch.float, device=device)\n",
    "fake_labels = torch.full((batch_size,), 0.0, dtype=torch.float, device=device)\n",
    "\n",
    "# Fixed noise allows us to visually track the generated images throughout training\n",
    "fake_sample_size = 50\n",
    "fixed_noise = torch.rand(fake_sample_size, n_qubits, device=device) * math.pi / 2\n",
    "\n",
    "# Iteration counter\n",
    "counter = 0\n",
    "\n",
    "# Collect images for plotting later\n",
    "results = []; loss_gen = []; loss_disc = []\n",
    "\n",
    "while True:\n",
    "    for i, data in enumerate(dataloader):\n",
    "\n",
    "        # Data for training the discriminator\n",
    "        data = data.reshape(-1, input_size)\n",
    "        real_data = data.to(device)\n",
    "        \n",
    "        # Noise following a uniform distribution in range [0,pi/2)\n",
    "        noise = torch.rand(batch_size, n_qubits, device=device) * math.pi / 2\n",
    "        fake_data = generator(noise)\n",
    "\n",
    "        # Training the discriminator\n",
    "        discriminator.zero_grad()\n",
    "        outD_real = discriminator(real_data).view(-1)\n",
    "        outD_fake = discriminator(fake_data.detach()).view(-1)\n",
    "\n",
    "        errD_real = criterion(outD_real, real_labels)\n",
    "        errD_fake = criterion(outD_fake, fake_labels)\n",
    "        # Propagate gradients\n",
    "        errD_real.backward()\n",
    "        errD_fake.backward()\n",
    "\n",
    "        errD = errD_real + errD_fake\n",
    "        optD.step()\n",
    "\n",
    "        # Training the generator\n",
    "        generator.zero_grad()\n",
    "        outD_fake = discriminator(fake_data).view(-1)\n",
    "        errG = criterion(outD_fake, real_labels)\n",
    "        errG.backward()\n",
    "        optG.step()\n",
    "\n",
    "        counter += 1\n",
    "\n",
    "        # Saving losses\n",
    "        loss_gen.append(float(errG))\n",
    "        loss_disc.append(float(errD))\n",
    "\n",
    "        # Show loss values\n",
    "        if counter % 10 == 0:\n",
    "            print(f'Iteration: {counter}, Discriminator Loss: {errD:0.3f}, Generator Loss: {errG:0.3f}')\n",
    "            test_images = generator(fixed_noise).view(fake_sample_size, 1, 4).cpu().detach()\n",
    "\n",
    "            # Save images every 50 iterations\n",
    "            if counter % 50 == 0:\n",
    "                results.append(test_images)\n",
    "\n",
    "        if counter == num_iter:\n",
    "            break\n",
    "    if counter == num_iter:\n",
    "        break"
   ]
  },
  {
   "cell_type": "code",
   "execution_count": 33,
   "metadata": {},
   "outputs": [
    {
     "data": {
      "image/png": "[encoded data removed]",
      "text/plain": [
       "<Figure size 640x480 with 1 Axes>"
      ]
     },
     "metadata": {},
     "output_type": "display_data"
    }
   ],
   "source": [
    "plt.plot(loss_disc, label='Discriminator Loss')\n",
    "plt.plot(loss_gen, label='Generator Loss')\n",
    "plt.legend();"
   ]
  },
  {
   "cell_type": "code",
   "execution_count": null,
   "metadata": {},
   "outputs": [
    {
     "data": {
      "text/plain": [
       "tensor([[[0.8370, 0.0720, 0.0820, 0.0030]],\n",
       "\n",
       "        [[0.6240, 0.0460, 0.3190, 0.0100]],\n",
       "\n",
       "        [[0.7940, 0.0470, 0.1270, 0.0010]],\n",
       "\n",
       "        [[0.6930, 0.0250, 0.2320, 0.0030]],\n",
       "\n",
       "        [[0.4790, 0.1920, 0.2940, 0.0000]],\n",
       "\n",
       "        [[0.7810, 0.1710, 0.0460, 0.0000]],\n",
       "\n",
       "        [[0.7610, 0.0080, 0.1660, 0.0060]],\n",
       "\n",
       "        [[0.5970, 0.2590, 0.1150, 0.0100]],\n",
       "\n",
       "        [[0.4080, 0.2340, 0.2920, 0.0010]],\n",
       "\n",
       "        [[0.5410, 0.1020, 0.2390, 0.0120]],\n",
       "\n",
       "        [[0.7400, 0.1550, 0.0290, 0.0100]],\n",
       "\n",
       "        [[0.7390, 0.0170, 0.1980, 0.0070]],\n",
       "\n",
       "        [[0.8490, 0.0000, 0.0220, 0.0000]],\n",
       "\n",
       "        [[0.5200, 0.0000, 0.3060, 0.1380]],\n",
       "\n",
       "        [[0.7290, 0.0040, 0.1840, 0.0530]],\n",
       "\n",
       "        [[0.3320, 0.0600, 0.5480, 0.0220]],\n",
       "\n",
       "        [[0.5880, 0.0650, 0.2750, 0.0010]],\n",
       "\n",
       "        [[0.7510, 0.0010, 0.0590, 0.0630]],\n",
       "\n",
       "        [[0.6650, 0.0230, 0.2290, 0.0480]],\n",
       "\n",
       "        [[0.6470, 0.2400, 0.0860, 0.0070]],\n",
       "\n",
       "        [[0.3680, 0.1330, 0.4540, 0.0120]],\n",
       "\n",
       "        [[0.6390, 0.0420, 0.2930, 0.0220]],\n",
       "\n",
       "        [[0.7390, 0.1660, 0.0160, 0.0100]],\n",
       "\n",
       "        [[0.5730, 0.0340, 0.3750, 0.0140]],\n",
       "\n",
       "        [[0.6510, 0.1410, 0.1910, 0.0020]],\n",
       "\n",
       "        [[0.8400, 0.0230, 0.0660, 0.0000]],\n",
       "\n",
       "        [[0.5010, 0.1230, 0.3440, 0.0040]],\n",
       "\n",
       "        [[0.4110, 0.0030, 0.5100, 0.0710]],\n",
       "\n",
       "        [[0.8390, 0.0000, 0.0910, 0.0120]],\n",
       "\n",
       "        [[0.8590, 0.0050, 0.0260, 0.0020]],\n",
       "\n",
       "        [[0.3600, 0.1800, 0.4200, 0.0070]],\n",
       "\n",
       "        [[0.5760, 0.1050, 0.1860, 0.0240]],\n",
       "\n",
       "        [[0.6000, 0.0120, 0.2540, 0.0780]],\n",
       "\n",
       "        [[0.5610, 0.1100, 0.2820, 0.0100]],\n",
       "\n",
       "        [[0.6020, 0.2830, 0.0890, 0.0000]],\n",
       "\n",
       "        [[0.4290, 0.0620, 0.4550, 0.0230]],\n",
       "\n",
       "        [[0.3710, 0.1090, 0.4560, 0.0060]],\n",
       "\n",
       "        [[0.5430, 0.2110, 0.1500, 0.0040]],\n",
       "\n",
       "        [[0.3580, 0.1850, 0.4140, 0.0090]],\n",
       "\n",
       "        [[0.8000, 0.0510, 0.1180, 0.0160]],\n",
       "\n",
       "        [[0.6510, 0.0240, 0.2680, 0.0420]],\n",
       "\n",
       "        [[0.4240, 0.0070, 0.3640, 0.1250]],\n",
       "\n",
       "        [[0.7710, 0.0010, 0.1750, 0.0420]],\n",
       "\n",
       "        [[0.8150, 0.0060, 0.1260, 0.0330]],\n",
       "\n",
       "        [[0.5860, 0.2730, 0.1180, 0.0100]],\n",
       "\n",
       "        [[0.3220, 0.0590, 0.5860, 0.0110]],\n",
       "\n",
       "        [[0.5390, 0.0700, 0.3690, 0.0130]],\n",
       "\n",
       "        [[0.8230, 0.0190, 0.0730, 0.0000]],\n",
       "\n",
       "        [[0.5410, 0.0960, 0.3570, 0.0020]],\n",
       "\n",
       "        [[0.5540, 0.0260, 0.2570, 0.0690]]])"
      ]
     },
     "execution_count": 94,
     "metadata": {},
     "output_type": "execute_result"
    }
   ],
   "source": [
    "np.round(results[-1], 3)"
   ]
  }
 ],
 "metadata": {
  "kernelspec": {
   "display_name": "base",
   "language": "python",
   "name": "python3"
  },
  "language_info": {
   "codemirror_mode": {
    "name": "ipython",
    "version": 3
   },
   "file_extension": ".py",
   "mimetype": "text/x-python",
   "name": "python",
   "nbconvert_exporter": "python",
   "pygments_lexer": "ipython3",
   "version": "3.9.13 (main, Aug 25 2022, 23:51:50) [MSC v.1916 64 bit (AMD64)]"
  },
  "orig_nbformat": 4,
  "vscode": {
   "interpreter": {
    "hash": "ad2bdc8ecc057115af97d19610ffacc2b4e99fae6737bb82f5d7fb13d2f2c186"
   }
  }
 },
 "nbformat": 4,
 "nbformat_minor": 2
}
